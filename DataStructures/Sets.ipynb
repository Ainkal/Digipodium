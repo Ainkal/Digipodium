{
 "cells": [
  {
   "cell_type": "code",
   "execution_count": 11,
   "metadata": {},
   "outputs": [
    {
     "name": "stdout",
     "output_type": "stream",
     "text": [
      "{1, 2, 3, 5}\n"
     ]
    }
   ],
   "source": [
    "st1={1,2,3,5}\n",
    "print(st1)"
   ]
  },
  {
   "cell_type": "code",
   "execution_count": 12,
   "metadata": {},
   "outputs": [
    {
     "name": "stdout",
     "output_type": "stream",
     "text": [
      "None\n",
      "None\n",
      "{1, 2, 3, 40}\n"
     ]
    }
   ],
   "source": [
    "st1.add(40)\n",
    "print(st1.remove(5))\n",
    "\n",
    "print(st1.discard(22))\n",
    "\n",
    "print(st1)\n"
   ]
  },
  {
   "cell_type": "code",
   "execution_count": 15,
   "metadata": {},
   "outputs": [
    {
     "name": "stdout",
     "output_type": "stream",
     "text": [
      "UNION of s1 and s2 is : {1, 2, 3, 4, 5, 6}\n",
      "Intersection of sets is :  {3, 4}\n",
      "{1, 2}\n"
     ]
    }
   ],
   "source": [
    "s1={1,2,3,4}\n",
    "s2={3,4,5,6}\n",
    "\n",
    "\n",
    "#UNION\n",
    "print(\"UNION of s1 and s2 is :\",s1|s2)\n",
    "\n",
    "#intersection\n",
    "print(\"Intersection of sets is : \",s1&s2)\n",
    "\n",
    "#differnce\n",
    "print(s1-s2)"
   ]
  }
 ],
 "metadata": {
  "kernelspec": {
   "display_name": "base",
   "language": "python",
   "name": "python3"
  },
  "language_info": {
   "codemirror_mode": {
    "name": "ipython",
    "version": 3
   },
   "file_extension": ".py",
   "mimetype": "text/x-python",
   "name": "python",
   "nbconvert_exporter": "python",
   "pygments_lexer": "ipython3",
   "version": "3.12.9"
  }
 },
 "nbformat": 4,
 "nbformat_minor": 2
}
