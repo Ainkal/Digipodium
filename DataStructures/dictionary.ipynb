{
 "cells": [
  {
   "cell_type": "code",
   "execution_count": 9,
   "metadata": {},
   "outputs": [
    {
     "name": "stdout",
     "output_type": "stream",
     "text": [
      "{'Employee': 'Hari', 'id': 900, 'set': 'super'}\n",
      "{'student': 'Atin', 'rollno': '23', 'course': 'BCA'}\n"
     ]
    }
   ],
   "source": [
    "dit= dict(student='Atin',rollno='23',course='BCA')#using dict constructor\n",
    "d1={\n",
    "    \"Employee\":\"Hari\",\n",
    "    \"id\":900,\n",
    "    \"set\":\"super\"\n",
    "}\n",
    "\n",
    "print(d1)\n",
    "print(dit)\n",
    "\n"
   ]
  },
  {
   "cell_type": "code",
   "execution_count": 10,
   "metadata": {},
   "outputs": [
    {
     "name": "stdout",
     "output_type": "stream",
     "text": [
      "Hari\n"
     ]
    }
   ],
   "source": [
    "print(d1[\"Employee\"])"
   ]
  },
  {
   "cell_type": "code",
   "execution_count": 11,
   "metadata": {},
   "outputs": [
    {
     "name": "stdout",
     "output_type": "stream",
     "text": [
      "dict_keys(['Employee', 'id', 'set'])\n",
      "dict_values(['Hari', 900, 'super'])\n",
      "dict_items([('Employee', 'Hari'), ('id', 900), ('set', 'super')])\n"
     ]
    }
   ],
   "source": [
    "print(d1.keys())   # Returns all keys\n",
    "print(d1.values()) # Returns all values\n",
    "print(d1.items())  # Returns all key-value pairs as tuples"
   ]
  },
  {
   "cell_type": "code",
   "execution_count": 12,
   "metadata": {},
   "outputs": [
    {
     "name": "stdout",
     "output_type": "stream",
     "text": [
      "{'luvknow': [25, 30, 32], 'Usa': [10, 19, 17], 'Chiina': [45, 98, 45]}\n"
     ]
    }
   ],
   "source": [
    "temp={\n",
    "    'luvknow':[25,30,32],\n",
    "    'Usa':[10,19,17],\n",
    "    'Chiina':[45,98,45,]\n",
    "}\n",
    "\n",
    "print(temp)"
   ]
  },
  {
   "cell_type": "code",
   "execution_count": 16,
   "metadata": {},
   "outputs": [
    {
     "name": "stdout",
     "output_type": "stream",
     "text": [
      "{'name': 'pp', 'id': 5}\n"
     ]
    }
   ],
   "source": [
    "new={\n",
    "    \"name\":input(\"Enter yiuur name\"),\n",
    "    'id':int(input(\"enter your id:\"))\n",
    "}\n",
    "print(new)"
   ]
  },
  {
   "cell_type": "code",
   "execution_count": 18,
   "metadata": {},
   "outputs": [
    {
     "name": "stdout",
     "output_type": "stream",
     "text": [
      "900\n"
     ]
    }
   ],
   "source": [
    "#Accessing vslues\n",
    "print(d1.get(\"id\"))"
   ]
  },
  {
   "cell_type": "code",
   "execution_count": 19,
   "metadata": {},
   "outputs": [
    {
     "name": "stdout",
     "output_type": "stream",
     "text": [
      "{'Employee': 'Hari', 'id': 900, 'set': 'super', 'income': 5000}\n"
     ]
    }
   ],
   "source": [
    "#add ites in d1\n",
    "\n",
    "d1['income']=5000\n",
    "print(d1)"
   ]
  },
  {
   "cell_type": "code",
   "execution_count": 23,
   "metadata": {},
   "outputs": [
    {
     "name": "stdout",
     "output_type": "stream",
     "text": [
      "Employee : Hari\n",
      "id : 900\n",
      "set : super\n",
      "income : 5000\n"
     ]
    }
   ],
   "source": [
    "for j,k in d1.items():  #it only prints keys\n",
    "    print(j+\" : \"+str(k))\n",
    "\n",
    "#for j, k in d1.items():\n",
    " #   print(f\"{j} : {k}\")\n"
   ]
  },
  {
   "cell_type": "code",
   "execution_count": 28,
   "metadata": {},
   "outputs": [
    {
     "name": "stdout",
     "output_type": "stream",
     "text": [
      "{'emp01': {'name': 'manoj', 'id': '54', 'salery': 40000}, 'emp02': {'name': 'huj', 'id': '545', 'salery': 550000}, 'emp03': {'name': 'Hima', 'id': '454', 'salery': 150000}}\n",
      "emp01 : {'name': 'manoj', 'id': '54', 'salery': 40000}\n",
      "emp02 : {'name': 'huj', 'id': '545', 'salery': 550000}\n",
      "emp03 : {'name': 'Hima', 'id': '454', 'salery': 150000}\n"
     ]
    }
   ],
   "source": [
    "Company={\n",
    "    'emp01':{\n",
    "        'name':'manoj',\n",
    "        'id':'54',\n",
    "        'salery':40000\n",
    "    },\n",
    "    'emp02':{\n",
    "        'name':'huj',\n",
    "        'id':'545',\n",
    "        'salery':550000\n",
    "    },\n",
    "    'emp03':{\n",
    "        'name':'Hima',\n",
    "        'id':'454',\n",
    "        'salery':150000\n",
    "    }\n",
    "}\n",
    "\n",
    "print(Company)\n",
    "\n",
    "\n",
    "for x,y in Company.items():\n",
    "    print(f\"{x} : {y}\")"
   ]
  },
  {
   "cell_type": "code",
   "execution_count": 30,
   "metadata": {},
   "outputs": [],
   "source": [
    "from pprint import pprint"
   ]
  },
  {
   "cell_type": "code",
   "execution_count": 32,
   "metadata": {},
   "outputs": [
    {
     "name": "stdout",
     "output_type": "stream",
     "text": [
      "{'emp01': {'id': '54', 'name': 'manoj', 'salery': 40000},\n",
      " 'emp02': {'id': '545', 'name': 'huj', 'salery': 550000},\n",
      " 'emp03': {'id': '454', 'name': 'Hima', 'salery': 150000}}\n"
     ]
    }
   ],
   "source": [
    "pprint(Company)"
   ]
  },
  {
   "cell_type": "code",
   "execution_count": 34,
   "metadata": {},
   "outputs": [
    {
     "data": {
      "text/plain": [
       "'huj'"
      ]
     },
     "execution_count": 34,
     "metadata": {},
     "output_type": "execute_result"
    }
   ],
   "source": [
    "Company['emp02']['name']"
   ]
  },
  {
   "cell_type": "code",
   "execution_count": 36,
   "metadata": {},
   "outputs": [
    {
     "name": "stdout",
     "output_type": "stream",
     "text": [
      "25\n"
     ]
    }
   ],
   "source": [
    "print(temp['luvknow'][0])"
   ]
  },
  {
   "cell_type": "code",
   "execution_count": null,
   "metadata": {},
   "outputs": [
    {
     "name": "stdout",
     "output_type": "stream",
     "text": [
      " Average temp is : 15.333333333333334\n"
     ]
    },
    {
     "ename": "TypeError",
     "evalue": "unsupported operand type(s) for +: 'int' and 'list'",
     "output_type": "error",
     "traceback": [
      "\u001b[1;31m---------------------------------------------------------------------------\u001b[0m",
      "\u001b[1;31mTypeError\u001b[0m                                 Traceback (most recent call last)",
      "Cell \u001b[1;32mIn[39], line 5\u001b[0m\n\u001b[0;32m      1\u001b[0m x\u001b[38;5;241m=\u001b[39mtemp[\u001b[38;5;124m'\u001b[39m\u001b[38;5;124mUsa\u001b[39m\u001b[38;5;124m'\u001b[39m][\u001b[38;5;241m0\u001b[39m]\u001b[38;5;241m+\u001b[39mtemp[\u001b[38;5;124m'\u001b[39m\u001b[38;5;124mUsa\u001b[39m\u001b[38;5;124m'\u001b[39m][\u001b[38;5;241m1\u001b[39m]\u001b[38;5;241m+\u001b[39mtemp[\u001b[38;5;124m'\u001b[39m\u001b[38;5;124mUsa\u001b[39m\u001b[38;5;124m'\u001b[39m][\u001b[38;5;241m2\u001b[39m]\n\u001b[0;32m      3\u001b[0m \u001b[38;5;28mprint\u001b[39m(\u001b[38;5;124m\"\u001b[39m\u001b[38;5;124m Average temp is : \u001b[39m\u001b[38;5;124m\"\u001b[39m\u001b[38;5;241m+\u001b[39m\u001b[38;5;28mstr\u001b[39m(x\u001b[38;5;241m/\u001b[39m\u001b[38;5;241m3\u001b[39m))\n\u001b[1;32m----> 5\u001b[0m average \u001b[38;5;241m=\u001b[39m \u001b[38;5;28;43msum\u001b[39;49m\u001b[43m(\u001b[49m\u001b[43mtemp\u001b[49m\u001b[38;5;241;43m.\u001b[39;49m\u001b[43mvalues\u001b[49m\u001b[43m(\u001b[49m\u001b[43m)\u001b[49m\u001b[43m)\u001b[49m \u001b[38;5;241m/\u001b[39m \u001b[38;5;28mlen\u001b[39m(temp)\n\u001b[0;32m      7\u001b[0m \u001b[38;5;28mprint\u001b[39m(average)\n",
      "\u001b[1;31mTypeError\u001b[0m: unsupported operand type(s) for +: 'int' and 'list'"
     ]
    }
   ],
   "source": [
    "x=temp['Usa'][0]+temp['Usa'][1]+temp['Usa'][2]\n",
    "\n",
    "print(\" Average temp is : \"+str(x/3))\n",
    "\n"
   ]
  }
 ],
 "metadata": {
  "kernelspec": {
   "display_name": "base",
   "language": "python",
   "name": "python3"
  },
  "language_info": {
   "codemirror_mode": {
    "name": "ipython",
    "version": 3
   },
   "file_extension": ".py",
   "mimetype": "text/x-python",
   "name": "python",
   "nbconvert_exporter": "python",
   "pygments_lexer": "ipython3",
   "version": "3.12.9"
  }
 },
 "nbformat": 4,
 "nbformat_minor": 2
}
