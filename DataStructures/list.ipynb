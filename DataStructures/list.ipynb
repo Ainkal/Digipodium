{
 "cells": [
  {
   "cell_type": "code",
   "execution_count": 8,
   "metadata": {},
   "outputs": [
    {
     "name": "stdout",
     "output_type": "stream",
     "text": [
      "['instagram', 'snapchat', 'swiggy', 'whatsapp', 'Facebook', 'Zepto', 'Twitter', 'Spotify', 'Incognito Chrome', 'Flipkart']\n",
      "instagram snapchat swiggy whatsapp Facebook Zepto Twitter Spotify Incognito Chrome Flipkart "
     ]
    }
   ],
   "source": [
    "l1=[\"instagram\",\"snapchat\",\"swiggy\",\"whatsapp\",\"Facebook\",\"Zepto\",\"Twitter\",\"Spotify\",\"Incognito Chrome\",\"Flipkart\"]\n",
    "print(l1)\n",
    "for app in l1:\n",
    "    print(app, end=\" \")"
   ]
  },
  {
   "cell_type": "code",
   "execution_count": null,
   "metadata": {},
   "outputs": [
    {
     "name": "stdout",
     "output_type": "stream",
     "text": [
      "Zepto\n"
     ]
    }
   ],
   "source": [
    "# Indexing and sliciing\n",
    "#Access  \n",
    "print(l1[5]) #positive indexing\n",
    "\n"
   ]
  },
  {
   "cell_type": "code",
   "execution_count": 11,
   "metadata": {},
   "outputs": [
    {
     "name": "stdout",
     "output_type": "stream",
     "text": [
      "Flipkart\n",
      "Incognito Chrome\n",
      "Spotify\n"
     ]
    }
   ],
   "source": [
    "print(l1[-1])#negative indexing\n",
    "print(l1[-2])#negative indexing\n",
    "print(l1[-3])#negative indexing"
   ]
  },
  {
   "cell_type": "code",
   "execution_count": null,
   "metadata": {},
   "outputs": [],
   "source": [
    "a= \"Strings\"\n"
   ]
  }
 ],
 "metadata": {
  "kernelspec": {
   "display_name": "base",
   "language": "python",
   "name": "python3"
  },
  "language_info": {
   "codemirror_mode": {
    "name": "ipython",
    "version": 3
   },
   "file_extension": ".py",
   "mimetype": "text/x-python",
   "name": "python",
   "nbconvert_exporter": "python",
   "pygments_lexer": "ipython3",
   "version": "3.12.9"
  }
 },
 "nbformat": 4,
 "nbformat_minor": 2
}
