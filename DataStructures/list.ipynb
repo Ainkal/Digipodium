{
 "cells": [
  {
   "cell_type": "code",
   "execution_count": 8,
   "metadata": {},
   "outputs": [
    {
     "name": "stdout",
     "output_type": "stream",
     "text": [
      "['instagram', 'snapchat', 'swiggy', 'whatsapp', 'Facebook', 'Zepto', 'Twitter', 'Spotify', 'Incognito Chrome', 'Flipkart']\n",
      "instagram snapchat swiggy whatsapp Facebook Zepto Twitter Spotify Incognito Chrome Flipkart "
     ]
    }
   ],
   "source": [
    "l1=[\"instagram\",\"snapchat\",\"swiggy\",\"whatsapp\",\"Facebook\",\"Zepto\",\"Twitter\",\"Spotify\",\"Incognito Chrome\",\"Flipkart\"]\n",
    "print(l1)\n",
    "for app in l1:\n",
    "    print(app, end=\" \")"
   ]
  },
  {
   "cell_type": "code",
   "execution_count": null,
   "metadata": {},
   "outputs": [
    {
     "name": "stdout",
     "output_type": "stream",
     "text": [
      "Zepto\n"
     ]
    }
   ],
   "source": [
    "# Indexing and sliciing\n",
    "#Access  \n",
    "print(l1[5]) #positive indexing\n",
    "\n"
   ]
  },
  {
   "cell_type": "code",
   "execution_count": 11,
   "metadata": {},
   "outputs": [
    {
     "name": "stdout",
     "output_type": "stream",
     "text": [
      "Flipkart\n",
      "Incognito Chrome\n",
      "Spotify\n"
     ]
    }
   ],
   "source": [
    "print(l1[-1])#negative indexing\n",
    "print(l1[-2])#negative indexing\n",
    "print(l1[-3])#negative indexing"
   ]
  },
  {
   "cell_type": "code",
   "execution_count": null,
   "metadata": {},
   "outputs": [],
   "source": [
    "a= \"Strings\"\n"
   ]
  },
  {
   "cell_type": "code",
   "execution_count": 1,
   "metadata": {},
   "outputs": [],
   "source": [
    "# A list of numbers\n",
    "numbers = [1, 2, 3, 4, 5]\n",
    "\n",
    "# A list of strings\n",
    "fruits = [\"apple\", \"banana\", \"cherry\"]\n",
    "\n",
    "# A mixed data type list\n",
    "mixed_list = [10, \"hello\", 3.14, True]\n"
   ]
  },
  {
   "cell_type": "code",
   "execution_count": 2,
   "metadata": {},
   "outputs": [
    {
     "name": "stdout",
     "output_type": "stream",
     "text": [
      "['apple', 'grape', 'banana', 'cherry', 'orange']\n"
     ]
    }
   ],
   "source": [
    "fruits.append(\"orange\")  # Adds to the end\n",
    "fruits.insert(1, \"grape\")  # Inserts at index 1\n",
    "print(fruits)  \n"
   ]
  },
  {
   "cell_type": "code",
   "execution_count": 3,
   "metadata": {},
   "outputs": [
    {
     "name": "stdout",
     "output_type": "stream",
     "text": [
      "['cherry', 'orange']\n"
     ]
    }
   ],
   "source": [
    "fruits.remove(\"apple\")  # Removes \"apple\"\n",
    "fruits.pop(1)  # Removes the second element\n",
    "del fruits[0]  # Deletes the first element\n",
    "print(fruits)\n"
   ]
  },
  {
   "cell_type": "code",
   "execution_count": 4,
   "metadata": {},
   "outputs": [
    {
     "name": "stdout",
     "output_type": "stream",
     "text": [
      "cherry\n",
      "orange\n"
     ]
    }
   ],
   "source": [
    "for fruit in fruits:\n",
    "    print(fruit)\n"
   ]
  }
 ],
 "metadata": {
  "kernelspec": {
   "display_name": "base",
   "language": "python",
   "name": "python3"
  },
  "language_info": {
   "codemirror_mode": {
    "name": "ipython",
    "version": 3
   },
   "file_extension": ".py",
   "mimetype": "text/x-python",
   "name": "python",
   "nbconvert_exporter": "python",
   "pygments_lexer": "ipython3",
   "version": "3.12.9"
  }
 },
 "nbformat": 4,
 "nbformat_minor": 2
}
