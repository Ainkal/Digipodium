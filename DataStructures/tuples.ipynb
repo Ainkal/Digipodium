{
 "cells": [
  {
   "cell_type": "code",
   "execution_count": 1,
   "metadata": {},
   "outputs": [],
   "source": [
    "t1=(\"apple\",\"Banana\",\"guava\",\"Mango\")"
   ]
  },
  {
   "cell_type": "code",
   "execution_count": 2,
   "metadata": {},
   "outputs": [
    {
     "name": "stdout",
     "output_type": "stream",
     "text": [
      "Empty tuple:  ()\n",
      "Tuple with integers:  (3, 6, 7, 10, 16, 23)\n",
      "Tuple with different data types:  (6, 'Javatpoint', 14.3)\n",
      "A nested tuple:  ('Javatpoint', {4: 5, 6: 2, 8: 2}, (5, 3, 5, 6))\n"
     ]
    }
   ],
   "source": [
    "emptyTuple = ()      \n",
    "print(\"Empty tuple: \", emptyTuple)      \n",
    "      \n",
    "# Creating a tuple having integers      \n",
    "integerTuple = (3, 6, 7, 10, 16, 23)  \n",
    "print(\"Tuple with integers: \", integerTuple)      \n",
    "      \n",
    "# Creating a tuple having objects of different data types  \n",
    "mixedTuple = (6, \"Javatpoint\", 14.3)      \n",
    "print(\"Tuple with different data types: \", mixedTuple)      \n",
    "      \n",
    "# Creating a nested tuple      \n",
    "nestedTuple = (\"Javatpoint\", {4: 5, 6: 2, 8:2}, (5, 3, 5, 6))      \n",
    "print(\"A nested tuple: \", nestedTuple)     "
   ]
  },
  {
   "cell_type": "code",
   "execution_count": 3,
   "metadata": {},
   "outputs": [
    {
     "name": "stdout",
     "output_type": "stream",
     "text": [
      "(6, 8.7, 'Javatpoint', ['Python', 'Tutorials'])\n",
      "<class 'tuple'>\n"
     ]
    }
   ],
   "source": [
    "# Creating a tuple      \n",
    "tupleWithoutParentheses = 6, 8.7, \"Javatpoint\", [\"Python\", \"Tutorials\"]      \n",
    "# Displaying the tuple created  \n",
    "print(tupleWithoutParentheses)      \n",
    "# Checking the data type of object tupleWithoutParentheses      \n",
    "print(type(tupleWithoutParentheses) )      "
   ]
  },
  {
   "cell_type": "code",
   "execution_count": 15,
   "metadata": {},
   "outputs": [
    {
     "name": "stdout",
     "output_type": "stream",
     "text": [
      "Element of t1 tuple is:  Mango\n",
      "Element of t1 tuple is:  Banana\n",
      "Element of t1 tuple is:  ('Banana', 'guava')\n",
      "Element of t1 tuple is:  ('apple', 'Banana', 'guava')\n",
      "Element of t1 tuple is:  ('apple', 'guava')\n"
     ]
    }
   ],
   "source": [
    "#indexing in tuples \n",
    "print(\"Element of t1 tuple is: \",t1[3])\n",
    "print(\"Element of t1 tuple is: \",t1[-3])\n",
    "print(\"Element of t1 tuple is: \",t1[1:3])\n",
    "print(\"Element of t1 tuple is: \",t1[:3])\n",
    "print(\"Element of t1 tuple is: \",t1[::2])"
   ]
  },
  {
   "cell_type": "code",
   "execution_count": 24,
   "metadata": {},
   "outputs": [
    {
     "name": "stdout",
     "output_type": "stream",
     "text": [
      "(1, 2, 3, 1, 2, 3, 1, 2, 3)\n",
      "(1, 2, 3, 4, 5, 6)\n"
     ]
    }
   ],
   "source": [
    "tuple1=(1,2,3)\n",
    "tuple2=(4,5,6)\n",
    "t2=tuple1*3#repeatetion\n",
    "\n",
    "print(t2)\n",
    "tuple3=tuple1+tuple2#concatenation\n",
    "print(tuple3)"
   ]
  },
  {
   "cell_type": "code",
   "execution_count": 28,
   "metadata": {},
   "outputs": [
    {
     "name": "stdout",
     "output_type": "stream",
     "text": [
      "Couunt the occurence of 2 is :  3\n",
      "1\n"
     ]
    }
   ],
   "source": [
    "\n",
    "#count the occurrence of an element\n",
    "print(\"Couunt the occurence of 2 is : \",t2.count(2))\n",
    "\n",
    "\n",
    "#return the index of an element\n",
    "print(t2.index(2))"
   ]
  },
  {
   "cell_type": "code",
   "execution_count": 34,
   "metadata": {},
   "outputs": [
    {
     "name": "stdout",
     "output_type": "stream",
     "text": [
      "1 2 3\n",
      "1\n",
      "[2, 3, 1, 2, 3, 1, 2]\n",
      "3\n"
     ]
    }
   ],
   "source": [
    "\n",
    "#unpscking\n",
    "a,b,c=tuple1\n",
    "print(a,b,c)\n",
    "\n",
    "a,*b,c=t2 # using * to unpack as tuple\n",
    "print(a)\n",
    "print(b)\n",
    "print(c)"
   ]
  },
  {
   "cell_type": "code",
   "execution_count": null,
   "metadata": {},
   "outputs": [],
   "source": []
  }
 ],
 "metadata": {
  "kernelspec": {
   "display_name": "base",
   "language": "python",
   "name": "python3"
  },
  "language_info": {
   "codemirror_mode": {
    "name": "ipython",
    "version": 3
   },
   "file_extension": ".py",
   "mimetype": "text/x-python",
   "name": "python",
   "nbconvert_exporter": "python",
   "pygments_lexer": "ipython3",
   "version": "3.12.9"
  }
 },
 "nbformat": 4,
 "nbformat_minor": 2
}
