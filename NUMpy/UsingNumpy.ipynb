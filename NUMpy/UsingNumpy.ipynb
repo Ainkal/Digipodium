{
 "cells": [
  {
   "cell_type": "code",
   "execution_count": 1,
   "metadata": {},
   "outputs": [],
   "source": [
    "import numpy as np\n"
   ]
  },
  {
   "cell_type": "code",
   "execution_count": 9,
   "metadata": {},
   "outputs": [
    {
     "name": "stdout",
     "output_type": "stream",
     "text": [
      "Array :  [1 5 4 8 6 3]\n",
      "\n",
      " [[1 2 3]\n",
      " [7 8 9]\n",
      " [4 5 6]]\n",
      "\n",
      " [ 3  7  6 10  8  5]\n",
      "\n",
      " [ 2 10  8 16 12  6]\n",
      "\n",
      " [[0. 0. 0.]\n",
      " [0. 0. 0.]\n",
      " [0. 0. 0.]]\n",
      "\n",
      " [[1. 1. 1.]\n",
      " [1. 1. 1.]\n",
      " [1. 1. 1.]]\n",
      "\n",
      " [0 2 4 6 8]\n"
     ]
    }
   ],
   "source": [
    "arr=np.array([1,5,4,8,6,3])\n",
    "\n",
    "print(\"Array : \",arr)\n",
    "\n",
    "\n",
    "#2d array\n",
    "matrix=np.array([[1,2,3],[7,8,9],[4,5,6]])\n",
    "print(\"\\n\",matrix)\n",
    "\n",
    "print(\"\\n\",arr+2)#Add 2 in each element\n",
    "print(\"\\n\",arr*2)#multiply by 2 in each element\n",
    "\n",
    "#Generatng array of zeroes\n",
    "\n",
    "zeroes=np.zeros((3,3))\n",
    "\n",
    "print(\"\\n\",zeroes)\n",
    "\n",
    "#Generating array of ones\n",
    "\n",
    "ones=np.ones((3,3))\n",
    "print(\"\\n\",ones)\n",
    "\n",
    "#arrange within range\n",
    "arranged=np.arange(0,10,2)\n",
    "print(\"\\n\",arranged)\n",
    "\n"
   ]
  },
  {
   "cell_type": "code",
   "execution_count": 10,
   "metadata": {},
   "outputs": [
    {
     "name": "stdout",
     "output_type": "stream",
     "text": [
      "[[0.13296912 0.64030784 0.26687509]\n",
      " [0.68280099 0.03180628 0.39378395]\n",
      " [0.81958299 0.40234072 0.4964166 ]]\n"
     ]
    }
   ],
   "source": [
    "# Generating a random array\n",
    "random_arr = np.random.rand(3, 3)  # 3x3 matrix with random values between 0 and 1\n",
    "print(random_arr)"
   ]
  },
  {
   "cell_type": "code",
   "execution_count": 11,
   "metadata": {},
   "outputs": [
    {
     "name": "stdout",
     "output_type": "stream",
     "text": [
      "[[[1 2]\n",
      "  [3 4]]\n",
      "\n",
      " [[5 6]\n",
      "  [7 8]]]\n"
     ]
    }
   ],
   "source": [
    "array_3d = np.array([[[1, 2], [3, 4]], [[5, 6], [7, 8]]])\n",
    "print(array_3d)\n"
   ]
  },
  {
   "cell_type": "code",
   "execution_count": 13,
   "metadata": {},
   "outputs": [
    {
     "name": "stdout",
     "output_type": "stream",
     "text": [
      "20\n",
      "50\n",
      "6\n",
      "[20 30 40]\n",
      "[10 20 30]\n",
      "[10 30 50]\n"
     ]
    }
   ],
   "source": [
    "arr = np.array([10, 20, 30, 40, 50])\n",
    "print(arr[1])   \n",
    "print(arr[-1])  \n",
    "\n",
    "\n",
    "matrix = np.array([[1, 2, 3], [4, 5, 6]])\n",
    "print(matrix[1, 2]) \n",
    "\n",
    "arr = np.array([10, 20, 30, 40, 50, 60])\n",
    "print(arr[1:4]) \n",
    "print(arr[:3])  \n",
    "print(arr[::2]) \n",
    "\n"
   ]
  },
  {
   "cell_type": "code",
   "execution_count": 23,
   "metadata": {},
   "outputs": [
    {
     "name": "stdout",
     "output_type": "stream",
     "text": [
      "[[1 2]\n",
      " [3 4]]\n",
      "\n",
      " [[ 6  8]\n",
      " [10 12]]\n",
      "\n",
      " [[ 5 12]\n",
      " [21 32]]\n",
      "\n",
      " [[19 22]\n",
      " [43 50]]\n",
      "\n",
      " [[1 3]\n",
      " [2 4]]\n"
     ]
    }
   ],
   "source": [
    "#Matrix operations\n",
    "\n",
    "A = np.array([[1, 2], [3, 4]])\n",
    "B = np.array([[5, 6], [7, 8]])\n",
    "\n",
    "print(A)\n",
    "\n",
    "print(\"\\n\",A + B)  # Element-wise addition\n",
    "print(\"\\n\",A * B)  # Element-wise multiplication\n",
    "print(\"\\n\",np.dot(A, B))  # Matrix multiplication\n",
    "print(\"\\n\",A.T)  # Transpose of a matrix\n"
   ]
  },
  {
   "cell_type": "code",
   "execution_count": 21,
   "metadata": {},
   "outputs": [
    {
     "name": "stdout",
     "output_type": "stream",
     "text": [
      "[10 20 30 40 50 80]\n",
      "[[10 20 30]\n",
      " [40 50 80]]\n"
     ]
    }
   ],
   "source": [
    "arr = np.array([10, 20, 30, 40, 50,80])\n",
    "reshaped = arr.reshape(2,3)\n",
    "print(arr)\n",
    "print(reshaped)"
   ]
  },
  {
   "cell_type": "code",
   "execution_count": 16,
   "metadata": {},
   "outputs": [
    {
     "name": "stdout",
     "output_type": "stream",
     "text": [
      "3.0\n",
      "3.0\n",
      "1.4142135623730951\n",
      "2.0\n"
     ]
    }
   ],
   "source": [
    "#Statical functions\n",
    "\n",
    "arr = np.array([1, 2, 3, 4, 5])\n",
    "print(np.mean(arr))   # Output: 3.0\n",
    "print(np.median(arr)) # Output: 3.0\n",
    "print(np.std(arr))    # Standard deviation\n",
    "print(np.var(arr))    # Variance\n"
   ]
  },
  {
   "cell_type": "code",
   "execution_count": 28,
   "metadata": {},
   "outputs": [
    {
     "name": "stdout",
     "output_type": "stream",
     "text": [
      "[[[1 2 3]\n",
      "  [4 5 6]\n",
      "  [7 8 9]]\n",
      "\n",
      " [[1 2 3]\n",
      "  [4 5 6]\n",
      "  [7 8 9]]\n",
      "\n",
      " [[1 2 3]\n",
      "  [4 5 6]\n",
      "  [7 8 9]]]\n",
      "6\n",
      "Shape: (3, 3, 3)\n",
      "Number of Dimensions: 3\n"
     ]
    }
   ],
   "source": [
    "#Arr[layer, row, column] indexing\n",
    "\n",
    "Arr=np.array([[[1,2,3],[4,5,6],[7,8,9]],[[1,2,3],[4,5,6],[7,8,9]],[[1,2,3],[4,5,6],[7,8,9]]])\n",
    "\n",
    "print(Arr)\n",
    "\n",
    "print(Arr[0,1,2])\n",
    "\n",
    "print(\"Shape:\", Arr.shape)   # Output: (3, 3, 3)\n",
    "print(\"Number of Dimensions:\", Arr.ndim)  # Output: 3\n"
   ]
  }
 ],
 "metadata": {
  "kernelspec": {
   "display_name": "base",
   "language": "python",
   "name": "python3"
  },
  "language_info": {
   "codemirror_mode": {
    "name": "ipython",
    "version": 3
   },
   "file_extension": ".py",
   "mimetype": "text/x-python",
   "name": "python",
   "nbconvert_exporter": "python",
   "pygments_lexer": "ipython3",
   "version": "3.12.9"
  }
 },
 "nbformat": 4,
 "nbformat_minor": 2
}
