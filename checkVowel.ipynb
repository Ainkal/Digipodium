{
 "cells": [
  {
   "cell_type": "code",
   "execution_count": null,
   "metadata": {},
   "outputs": [
    {
     "name": "stdout",
     "output_type": "stream",
     "text": [
      "Vowel\n"
     ]
    }
   ],
   "source": [
    "c= (input(\"Enter a charecter:\"))\n",
    "str={'a','e','i','o','u'}\n",
    "if c in str or c in 'AEIOU':\n",
    "    print('Vowel')\n",
    "if c=='a'or c=='e' or c=='i' or c=='o'or c=='u' or c=='A' or c=='E' or c=='I' or c=='O' or c=='U':\n",
    "    print(\"Charector is vowel\")\n",
    "else:\n",
    "    print(\"Charector is constant\")\n"
   ]
  },
  {
   "cell_type": "code",
   "execution_count": null,
   "metadata": {},
   "outputs": [],
   "source": []
  }
 ],
 "metadata": {
  "kernelspec": {
   "display_name": "base",
   "language": "python",
   "name": "python3"
  },
  "language_info": {
   "codemirror_mode": {
    "name": "ipython",
    "version": 3
   },
   "file_extension": ".py",
   "mimetype": "text/x-python",
   "name": "python",
   "nbconvert_exporter": "python",
   "pygments_lexer": "ipython3",
   "version": "3.12.9"
  }
 },
 "nbformat": 4,
 "nbformat_minor": 2
}
