{
 "cells": [
  {
   "cell_type": "code",
   "execution_count": 34,
   "id": "48e25237",
   "metadata": {},
   "outputs": [],
   "source": [
    "from sqlalchemy import create_engine, Column, Integer, String\n",
    "from sqlalchemy.orm import sessionmaker, declarative_base\n"
   ]
  },
  {
   "cell_type": "markdown",
   "id": "631cf6df",
   "metadata": {},
   "source": [
    "-  create_enginne :It is used to make connection from database\n",
    "- column : it defines columns in database\n",
    "- integer and string :datatype of values in database\n"
   ]
  },
  {
   "cell_type": "code",
   "execution_count": 35,
   "id": "9dc3eb24",
   "metadata": {},
   "outputs": [],
   "source": [
    "engine =create_engine('sqlite:///users.db')"
   ]
  },
  {
   "cell_type": "code",
   "execution_count": 36,
   "id": "d73c4241",
   "metadata": {},
   "outputs": [],
   "source": [
    "Base= declarative_base()\n",
    "class User(Base):\n",
    "    __tablename__ = 'users'\n",
    "    id = Column(Integer, primary_key=True)\n",
    "    name = Column(String)\n",
    "    password=Column(String)\n",
    "    email= Column(String)   "
   ]
  },
  {
   "cell_type": "code",
   "execution_count": 37,
   "id": "9907b249",
   "metadata": {},
   "outputs": [],
   "source": [
    "Base.metadata.create_all(engine)"
   ]
  },
  {
   "cell_type": "code",
   "execution_count": 38,
   "id": "ba046a80",
   "metadata": {},
   "outputs": [],
   "source": [
    "Session=sessionmaker(bind=engine)\n",
    "session=Session()"
   ]
  },
  {
   "cell_type": "code",
   "execution_count": 43,
   "id": "bfc7363c",
   "metadata": {},
   "outputs": [],
   "source": [
    "# Create a new user\n",
    "new_user=User(name='Smith',password='434')\n",
    "session.add(new_user)\n",
    "session.commit()"
   ]
  },
  {
   "cell_type": "code",
   "execution_count": 46,
   "id": "5487e933",
   "metadata": {},
   "outputs": [],
   "source": [
    "# Create a new user\n",
    "new_user=User(name='john',password='34')\n",
    "session.add(new_user)\n",
    "session.commit()"
   ]
  },
  {
   "cell_type": "code",
   "execution_count": 47,
   "id": "934eb1a9",
   "metadata": {},
   "outputs": [
    {
     "name": "stdout",
     "output_type": "stream",
     "text": [
      "User ID: 1, Name: Smith, Password: 434, Email: None\n",
      "User ID: 2, Name: Smith, Password: 434, Email: None\n",
      "User ID: 3, Name: john, Password: 34, Email: None\n",
      "User ID: 4, Name: Smith, Password: 434, Email: None\n",
      "User ID: 5, Name: john, Password: 34, Email: None\n",
      "User ID: 6, Name: john, Password: 34, Email: None\n"
     ]
    }
   ],
   "source": [
    "#Retrive our data\n",
    "users=session.query(User).all()\n",
    "for user in users:\n",
    "    print(f'User ID: {user.id}, Name: {user.name}, Password: {user.password}, Email: {user.email}')\n",
    " #   print(user.id, user.name, user.password, user.email)\n",
    " "
   ]
  },
  {
   "cell_type": "code",
   "execution_count": 52,
   "id": "c483988f",
   "metadata": {},
   "outputs": [],
   "source": [
    "# Update operation \n",
    "user=session.query(User).filter_by(name='Smith').first()\n",
    "user.name='Bob'    \n",
    "session.commit()"
   ]
  },
  {
   "cell_type": "code",
   "execution_count": 53,
   "id": "8b5eacba",
   "metadata": {},
   "outputs": [
    {
     "name": "stdout",
     "output_type": "stream",
     "text": [
      "User ID: 1, Name: Bob, Password: 1234, Email: None\n",
      "User ID: 2, Name: Bob, Password: 434, Email: None\n",
      "User ID: 3, Name: john, Password: 34, Email: None\n",
      "User ID: 4, Name: Smith, Password: 434, Email: None\n",
      "User ID: 5, Name: john, Password: 34, Email: None\n",
      "User ID: 6, Name: john, Password: 34, Email: None\n"
     ]
    }
   ],
   "source": [
    "#Retrive our data\n",
    "users=session.query(User).all()\n",
    "for user in users:\n",
    "    print(f'User ID: {user.id}, Name: {user.name}, Password: {user.password}, Email: {user.email}')\n",
    " #   print(user.id, user.name, user.password, user.email)\n",
    " "
   ]
  },
  {
   "cell_type": "code",
   "execution_count": 56,
   "id": "6b18ecfb",
   "metadata": {},
   "outputs": [],
   "source": [
    "#Delete operation\n",
    "user=session.query(User).filter_by(name='Bob').first()\n",
    "session.delete(user)\n",
    "session.commit()"
   ]
  },
  {
   "cell_type": "code",
   "execution_count": 57,
   "id": "3a663201",
   "metadata": {},
   "outputs": [
    {
     "name": "stdout",
     "output_type": "stream",
     "text": [
      "User ID: 3, Name: john, Password: 34, Email: None\n",
      "User ID: 4, Name: Smith, Password: 434, Email: None\n",
      "User ID: 5, Name: john, Password: 34, Email: None\n",
      "User ID: 6, Name: john, Password: 34, Email: None\n"
     ]
    }
   ],
   "source": [
    "users=session.query(User).all()\n",
    "for user in users:\n",
    "    print(f'User ID: {user.id}, Name: {user.name}, Password: {user.password}, Email: {user.email}')\n",
    " #   print(user.id, user.name, user.password, user.email)\n",
    " "
   ]
  }
 ],
 "metadata": {
  "kernelspec": {
   "display_name": "base",
   "language": "python",
   "name": "python3"
  },
  "language_info": {
   "codemirror_mode": {
    "name": "ipython",
    "version": 3
   },
   "file_extension": ".py",
   "mimetype": "text/x-python",
   "name": "python",
   "nbconvert_exporter": "python",
   "pygments_lexer": "ipython3",
   "version": "3.12.9"
  }
 },
 "nbformat": 4,
 "nbformat_minor": 5
}
