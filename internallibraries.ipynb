{
 "cells": [
  {
   "cell_type": "code",
   "execution_count": 10,
   "metadata": {},
   "outputs": [],
   "source": [
    "from datetime import datetime as dt\n",
    "import random\n",
    "\n",
    "\n"
   ]
  },
  {
   "cell_type": "code",
   "execution_count": 11,
   "metadata": {},
   "outputs": [
    {
     "name": "stdout",
     "output_type": "stream",
     "text": [
      "1\n",
      "0.7415504997598329\n",
      "12.448918538034762\n",
      "banana\n",
      "16\n",
      "82\n",
      "True\n"
     ]
    }
   ],
   "source": [
    "# Random integer between two values (inclusive)\n",
    "print(random.randint(1, 10))  # Example Output: 7\n",
    "\n",
    "# Random float between 0 and 1\n",
    "print(random.random())  # Example Output: 0.54321\n",
    "\n",
    "# Random float between two values\n",
    "print(random.uniform(10, 20))  # Example Output: 14.876\n",
    "\n",
    "fruits = [\"apple\", \"banana\", \"cherry\", \"mango\"]\n",
    "print(random.choice(fruits))  # Example Output: cherry\n",
    "\n",
    "\n",
    "# Random even number between 10 and 50\n",
    "print(random.randrange(10, 50, 2))  # Example Output: 22\n",
    "\n",
    "\n",
    "random.seed(42)  # Setting a fixed seed\n",
    "print(random.randint(1, 100))  # Same result every time with the same seed\n",
    "\n",
    "print(random.choice([True, False]))  # Example Output: False\n",
    "\n",
    "\n"
   ]
  },
  {
   "cell_type": "code",
   "execution_count": 10,
   "metadata": {},
   "outputs": [
    {
     "name": "stdout",
     "output_type": "stream",
     "text": [
      "current date only in format:  01/03/2025\n"
     ]
    }
   ],
   "source": [
    "print('current date only in format: ',dt.strftime(dt.now(),'%d/%m/%Y'))"
   ]
  },
  {
   "cell_type": "code",
   "execution_count": 8,
   "metadata": {},
   "outputs": [
    {
     "name": "stdout",
     "output_type": "stream",
     "text": [
      "get current time and  date: 2025-03-01 13:01:49.278721\n",
      "get current year: 2025\n",
      "get current day: 1\n",
      "get current hour: 13\n",
      "get current minute: 1\n",
      "get current seccond: 49\n"
     ]
    }
   ],
   "source": [
    "print('get current time and  date:', dt.now())\n",
    "print('get current year:', dt.now().year)\n",
    "print('get current day:', dt.now().day)\n",
    "print('get current hour:', dt.now().hour)\n",
    "print('get current minute:', dt.now().minute)\n",
    "print('get current seccond:', dt.now().second)\n",
    "\n",
    "\n"
   ]
  },
  {
   "cell_type": "code",
   "execution_count": 11,
   "metadata": {},
   "outputs": [
    {
     "name": "stdout",
     "output_type": "stream",
     "text": [
      "current day name : Sat\n",
      "current month name : March\n",
      "format: 01/03/2025\n",
      "format: 13:09:47\n"
     ]
    }
   ],
   "source": [
    "print('current day name :', dt.now().strftime('%a'))\n",
    "print('current month name :', dt.now().strftime('%B'))\n",
    "print('format:',dt.now().strftime(\"%d/%m/%Y\"))\n",
    "print('format:',dt.now().strftime(\"%H:%M:%S\"))"
   ]
  },
  {
   "cell_type": "code",
   "execution_count": 12,
   "metadata": {},
   "outputs": [],
   "source": [
    "import os "
   ]
  },
  {
   "cell_type": "code",
   "execution_count": null,
   "metadata": {},
   "outputs": [
    {
     "name": "stdout",
     "output_type": "stream",
     "text": [
      "current working directory :  c:\\Users\\atink\\OneDrive\\Desktop\\Digipodium\n"
     ]
    }
   ],
   "source": [
    "print('current working directory : ',os.getcwd())\n",
    "print('current working directory : ',os.getcwd())"
   ]
  },
  {
   "cell_type": "code",
   "execution_count": null,
   "metadata": {},
   "outputs": [
    {
     "name": "stdout",
     "output_type": "stream",
     "text": [
      "files in current diirectorry:  ['.git', 'base.py', 'checkposittive.ipynb', 'checkVowel.ipynb', 'Conditional.ipynb', 'DataStructures', 'evenodd.ipynb', 'internallibraries.ipynb', 'loops.ipynb']\n",
      "9\n"
     ]
    }
   ],
   "source": [
    "files= os.listdir()\n",
    "print('files in current directorry: ',files)\n",
    "print(len(files))"
   ]
  },
  {
   "cell_type": "code",
   "execution_count": null,
   "metadata": {},
   "outputs": [
    {
     "name": "stdout",
     "output_type": "stream",
     "text": [
      "files in the specified directory : ['.vscode', 'c', 'c++', 'DSA', 'java', 'Python']\n",
      "files in the specified directory : 6\n"
     ]
    }
   ],
   "source": [
    "files=os.listdir(r\"C:\\Users\\atink\\Downloads\")\n",
    "\n",
    "print(\"files in the specified directory :\",files)\n",
    "print(\"files in the specified directory :\",len(files))"
   ]
  },
  {
   "cell_type": "code",
   "execution_count": 21,
   "metadata": {},
   "outputs": [
    {
     "data": {
      "text/plain": [
       "<generator object walk at 0x00000191B5421B90>"
      ]
     },
     "execution_count": 21,
     "metadata": {},
     "output_type": "execute_result"
    }
   ],
   "source": [
    "os.walk(\"C:\")"
   ]
  },
  {
   "cell_type": "code",
   "execution_count": 22,
   "metadata": {},
   "outputs": [
    {
     "name": "stdout",
     "output_type": "stream",
     "text": [
      "=> C:\n",
      "folder  ['.git', 'DataStructures']\n",
      "files  ['base.py', 'checkposittive.ipynb', 'checkVowel.ipynb', 'Conditional.ipynb', 'evenodd.ipynb', 'internallibraries.ipynb', 'loops.ipynb']\n",
      "=> C:.git\n",
      "folder  ['hooks', 'info', 'logs', 'objects', 'refs']\n",
      "files  ['COMMIT_EDITMSG', 'config', 'description', 'FETCH_HEAD', 'HEAD', 'index']\n",
      "=> C:.git\\hooks\n",
      "folder  []\n",
      "files  ['applypatch-msg.sample', 'commit-msg.sample', 'fsmonitor-watchman.sample', 'post-update.sample', 'pre-applypatch.sample', 'pre-commit.sample', 'pre-merge-commit.sample', 'pre-push.sample', 'pre-rebase.sample', 'pre-receive.sample', 'prepare-commit-msg.sample', 'push-to-checkout.sample', 'sendemail-validate.sample', 'update.sample']\n",
      "=> C:.git\\info\n",
      "folder  []\n",
      "files  ['exclude']\n",
      "=> C:.git\\logs\n",
      "folder  ['refs']\n",
      "files  ['HEAD']\n",
      "=> C:.git\\logs\\refs\n",
      "folder  ['heads', 'remotes']\n",
      "files  []\n",
      "=> C:.git\\logs\\refs\\heads\n",
      "folder  []\n",
      "files  ['main']\n",
      "=> C:.git\\logs\\refs\\remotes\n",
      "folder  ['origin']\n",
      "files  []\n",
      "=> C:.git\\logs\\refs\\remotes\\origin\n",
      "folder  []\n",
      "files  ['HEAD', 'main']\n",
      "=> C:.git\\objects\n",
      "folder  ['06', '12', '25', '36', '3e', '5d', '69', '7d', '9f', 'b0', 'b1', 'e0', 'e6', 'fd', 'info', 'pack']\n",
      "files  []\n",
      "=> C:.git\\objects\\06\n",
      "folder  []\n",
      "files  ['764fb8d04a4665abcd368f034bfb389ffc7f8b']\n",
      "=> C:.git\\objects\\12\n",
      "folder  []\n",
      "files  ['8f257d1ae53c2c3e44e8a40baaa9d66735d29b']\n",
      "=> C:.git\\objects\\25\n",
      "folder  []\n",
      "files  ['48704e1d645ae832e198a1cadd32ef2629b264']\n",
      "=> C:.git\\objects\\36\n",
      "folder  []\n",
      "files  ['1ed66fd45f7d6a39dfa3ef76183626fb2c79af', '845df9e2ed756e2f9c9d7c9b478b66cc512a38']\n",
      "=> C:.git\\objects\\3e\n",
      "folder  []\n",
      "files  ['b7536d848ae601cd2ab48fefdfb5ffad15e725']\n",
      "=> C:.git\\objects\\5d\n",
      "folder  []\n",
      "files  ['95b126fbf386cddf4f46eaf8f20b469591e8c4']\n",
      "=> C:.git\\objects\\69\n",
      "folder  []\n",
      "files  ['fea521355ad50c856af32a90ce4fb44324359d']\n",
      "=> C:.git\\objects\\7d\n",
      "folder  []\n",
      "files  ['1a311b701e565ae5dd3a2abcae867a41d1d18d']\n",
      "=> C:.git\\objects\\9f\n",
      "folder  []\n",
      "files  ['587e5bb69ccac588983ee86d97aeb171818d90']\n",
      "=> C:.git\\objects\\b0\n",
      "folder  []\n",
      "files  ['92e62ff592af4add48b171bd9bf37dea4ffba6']\n",
      "=> C:.git\\objects\\b1\n",
      "folder  []\n",
      "files  ['365d5a29a66c36bd98d0780c2d70bbd8cf9404']\n",
      "=> C:.git\\objects\\e0\n",
      "folder  []\n",
      "files  ['2b8fbe95af5da0871cd6df801ed7a575f0006f']\n",
      "=> C:.git\\objects\\e6\n",
      "folder  []\n",
      "files  ['724902f028c412980f89dbf5e0d0e1b6072309', '9de29bb2d1d6434b8b29ae775ad8c2e48c5391']\n",
      "=> C:.git\\objects\\fd\n",
      "folder  []\n",
      "files  ['20abd224ef95f2c0156b46a9b955c79e08c2cc']\n",
      "=> C:.git\\objects\\info\n",
      "folder  []\n",
      "files  []\n",
      "=> C:.git\\objects\\pack\n",
      "folder  []\n",
      "files  []\n",
      "=> C:.git\\refs\n",
      "folder  ['heads', 'remotes', 'tags']\n",
      "files  []\n",
      "=> C:.git\\refs\\heads\n",
      "folder  []\n",
      "files  ['main']\n",
      "=> C:.git\\refs\\remotes\n",
      "folder  ['origin']\n",
      "files  []\n",
      "=> C:.git\\refs\\remotes\\origin\n",
      "folder  []\n",
      "files  ['HEAD', 'main']\n",
      "=> C:.git\\refs\\tags\n",
      "folder  []\n",
      "files  []\n",
      "=> C:DataStructures\n",
      "folder  []\n",
      "files  ['dictionary.ipynb', 'list.ipynb', 'strings.ipynb']\n",
      "total files found:  54\n"
     ]
    }
   ],
   "source": [
    "total_files=0\n",
    "\n",
    "for path, folders, files in os.walk(\"C:\"):\n",
    "    print('=>',path)\n",
    "    print('folder ',folders)\n",
    "    print('files ',files)\n",
    "    total_files+=len(files)\n",
    "print(\"total files found: \",total_files)"
   ]
  },
  {
   "cell_type": "code",
   "execution_count": 27,
   "metadata": {},
   "outputs": [
    {
     "name": "stdout",
     "output_type": "stream",
     "text": [
      "C:\\Users\\atink\\OneDrive\\Desktop\\coding\\DSA exist\n"
     ]
    }
   ],
   "source": [
    "file=r\"C:\\Users\\atink\\OneDrive\\Desktop\\coding\\DSA\"\n",
    "if os.path.exists(file):\n",
    "    print(file, 'exist')\n",
    "else:\n",
    "    print(file,'does not exist')\n"
   ]
  },
  {
   "cell_type": "code",
   "execution_count": 28,
   "metadata": {},
   "outputs": [
    {
     "name": "stdout",
     "output_type": "stream",
     "text": [
      "Folder exist\n",
      "folder size  4096 bytes\n",
      "folder size in kb  4.0 kb\n",
      "folder size in mb  0.00390625 mb\n",
      "folder size in gb  3.814697265625e-06 gb\n"
     ]
    }
   ],
   "source": [
    "if os.path.exists(file):\n",
    "    print('Folder exist')\n",
    "    size=os.path.getsize(file)\n",
    "    print('folder size ',size, 'bytes')\n",
    "    print('folder size in kb ',size/1024, 'kb')\n",
    "    print('folder size in mb ',size/1024/1024, 'mb')\n",
    "    print('folder size in gb ',size/1024/1024/1024, 'gb')"
   ]
  }
 ],
 "metadata": {
  "kernelspec": {
   "display_name": "base",
   "language": "python",
   "name": "python3"
  },
  "language_info": {
   "codemirror_mode": {
    "name": "ipython",
    "version": 3
   },
   "file_extension": ".py",
   "mimetype": "text/x-python",
   "name": "python",
   "nbconvert_exporter": "python",
   "pygments_lexer": "ipython3",
   "version": "3.12.9"
  }
 },
 "nbformat": 4,
 "nbformat_minor": 2
}
